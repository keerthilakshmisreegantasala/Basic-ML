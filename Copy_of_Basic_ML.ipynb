{
  "nbformat": 4,
  "nbformat_minor": 0,
  "metadata": {
    "colab": {
      "name": "Copy of Basic ML.ipynb",
      "provenance": [],
      "authorship_tag": "ABX9TyOdC8kuGx/nAtxEn7+XwbEh",
      "include_colab_link": true
    },
    "kernelspec": {
      "name": "python3",
      "display_name": "Python 3"
    },
    "language_info": {
      "name": "python"
    }
  },
  "cells": [
    {
      "cell_type": "markdown",
      "metadata": {
        "id": "view-in-github",
        "colab_type": "text"
      },
      "source": [
        "<a href=\"https://colab.research.google.com/github/keerthilakshmisreegantasala/Basic-ML/blob/main/Copy_of_Basic_ML.ipynb\" target=\"_parent\"><img src=\"https://colab.research.google.com/assets/colab-badge.svg\" alt=\"Open In Colab\"/></a>"
      ]
    },
    {
      "cell_type": "code",
      "metadata": {
        "id": "pbOgdmcygE-t"
      },
      "source": [
        "NOTE BOOK-1\n",
        "simple python programs :\n"
      ],
      "execution_count": null,
      "outputs": []
    },
    {
      "cell_type": "markdown",
      "metadata": {
        "id": "IWVNVLE0jrWS"
      },
      "source": [
        "1. Python Program to find the largest number among the three input numbers."
      ]
    },
    {
      "cell_type": "code",
      "metadata": {
        "colab": {
          "base_uri": "https://localhost:8080/"
        },
        "id": "TxJ9EaTP4lZw",
        "outputId": "275e496d-f792-4988-af49-fa5faa33c552"
      },
      "source": [
        "#uncomment following lines to take three numbers from user\n",
        "a=float(input(\"Enter first number:\"))\n",
        "b=float(input(\"Enter second number:\"))\n",
        "c=float(input(\"Enter third number:\"))\n",
        "#writing condition\n",
        "if(a>=b)and(a>=c):\n",
        "  print(\"largest number=\",a)\n",
        "elif(b>=a)and(b>=c):\n",
        "  print(\"largest number=\",b)\n",
        "else:\n",
        "  print(\"largest number=\",c)"
      ],
      "execution_count": null,
      "outputs": [
        {
          "output_type": "stream",
          "text": [
            "Enter first number:3\n",
            "Enter second number:4\n",
            "Enter third number:5\n",
            "largest number= 5.0\n"
          ],
          "name": "stdout"
        }
      ]
    },
    {
      "cell_type": "markdown",
      "metadata": {
        "id": "fTpCi2LV8-LR"
      },
      "source": [
        "2.Python program to check if the number is an Armstrong number or not."
      ]
    },
    {
      "cell_type": "code",
      "metadata": {
        "colab": {
          "base_uri": "https://localhost:8080/"
        },
        "id": "qIk98p3h-1R4",
        "outputId": "41b595a0-d008-4ee1-8aa1-733f5b2054e8"
      },
      "source": [
        "#take input from the user\n",
        "n=int(input(\"Enter a number:\"))\n",
        "#initialize sum\n",
        "sum=0\n",
        "#find the sum of the cube of each digit\n",
        "temp=n\n",
        "while temp>0:\n",
        "  digit=temp%10\n",
        "  sum=sum+digit**3\n",
        "  temp//=10\n",
        "#condition and display the result\n",
        "if n==sum:\n",
        "  print(n,\"is an amstrong number\")\n",
        "else:\n",
        "  print(n,\"is not an amstrong number\")\n",
        "\n"
      ],
      "execution_count": null,
      "outputs": [
        {
          "output_type": "stream",
          "text": [
            "Enter a number:407\n",
            "407 is an amstrong number\n"
          ],
          "name": "stdout"
        }
      ]
    },
    {
      "cell_type": "markdown",
      "metadata": {
        "id": "C5O1ecMRIMed"
      },
      "source": [
        "3.Python program to find sum of squares of first n natural numbers.\n"
      ]
    },
    {
      "cell_type": "code",
      "metadata": {
        "colab": {
          "base_uri": "https://localhost:8080/"
        },
        "id": "6QyKDtK-KKtD",
        "outputId": "b0ed847d-28a7-4106-868f-aa6bf36256d6"
      },
      "source": [
        "#take input from the user\n",
        "n=int(input(\"Enter number upto which you want sum:\"))\n",
        "#initialise i,sum values\n",
        "i=1\n",
        "sum=0\n",
        "#initialise condition \n",
        "while(i<=n):\n",
        "  sum=sum+(i*i)\n",
        "  i=i+1\n",
        "print(\"sum=\",sum)\n"
      ],
      "execution_count": null,
      "outputs": [
        {
          "output_type": "stream",
          "text": [
            "Enter number upto which you want sum:10\n",
            "sum= 385\n"
          ],
          "name": "stdout"
        }
      ]
    },
    {
      "cell_type": "markdown",
      "metadata": {
        "id": "farSXt-hOGqt"
      },
      "source": [
        ""
      ]
    },
    {
      "cell_type": "code",
      "metadata": {
        "id": "sqGkPn9PJR8e"
      },
      "source": [
        ""
      ],
      "execution_count": null,
      "outputs": []
    }
  ]
}